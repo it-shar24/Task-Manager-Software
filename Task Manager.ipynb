{
 "cells": [
  {
   "cell_type": "code",
   "execution_count": 1,
   "id": "fa2f0026-115a-4aba-a1be-eb0092cc4964",
   "metadata": {},
   "outputs": [],
   "source": [
    "# defining a function for tasks\n",
    "def task():\n",
    "    tasks = [] #empty list\n",
    "    print(\"WELCOME TO THE TASK MANAGER!\")\n",
    "\n",
    "    total_task = int(input(\"Enter how many tasks you want to add\")) #user input for number of task\n",
    "    for i in range(0,total_task):  # if user input = 5 , the loop will run 6 times\n",
    "        task_name = input(f\"Enter task {i}=\") # enter task 3 = \n",
    "        tasks.append(task_name) \n",
    "\n",
    "    print(f\"Today's tasks are\\n{tasks}\")\n",
    "    \n",
    "    while True:\n",
    "        operation = int(input(\"Enter 1:Add\\n2:Update\\n3:Delete\\n4:View\\n5:Exit\"))\n",
    "        if operation == 1:\n",
    "            add = input(\"Enter task you want to add\")\n",
    "            tasks.append(add)\n",
    "            print(f\"Task {add} has been successfully added\")\n",
    "\n",
    "        elif operation == 2:\n",
    "            update = input(\"Enter the task name you want to update =\")\n",
    "            if update in tasks:\n",
    "                new = input(\"Enter new task\")\n",
    "                ind = tasks.index(update) # finds the index of the task user wants to update\n",
    "                tasks[ind] = new\n",
    "                print(f\"Updated task {new}\")\n",
    "            else:\n",
    "                print(\"Please enter pre-exisiting task to update\")\n",
    "\n",
    "        elif operation == 3:\n",
    "            delete = input(\"Which task do you want to delete?\")\n",
    "            if delete in tasks:\n",
    "                ind = tasks.index(delete)\n",
    "                del tasks[ind]\n",
    "                print(f\"Task {delete} has been deleted\")\n",
    "            else:\n",
    "                print(\"Please enter pre-exisiting task to update\")\n",
    "\n",
    "        elif operation == 4:\n",
    "            print(f\"Total tasks = {tasks}\")\n",
    "\n",
    "        elif operation ==5:\n",
    "            print(\"Closing the program\")\n",
    "            print(\"Great job staying organized today!\")\n",
    "            break\n",
    "\n",
    "        else:\n",
    "            print(\"Invalid Input\")\n",
    "       \n",
    "\n",
    "            \n",
    "    "
   ]
  },
  {
   "cell_type": "code",
   "execution_count": 3,
   "id": "c114e63b-b565-4430-8232-c5333e81ffb0",
   "metadata": {},
   "outputs": [
    {
     "name": "stdout",
     "output_type": "stream",
     "text": [
      "WELCOME TO THE TASK MANAGER!\n"
     ]
    },
    {
     "name": "stdin",
     "output_type": "stream",
     "text": [
      "Enter how many tasks you want to add 2\n",
      "Enter task 0= lunch\n",
      "Enter task 1= eat\n"
     ]
    },
    {
     "name": "stdout",
     "output_type": "stream",
     "text": [
      "Today's tasks are\n",
      "['lunch', 'eat']\n"
     ]
    },
    {
     "name": "stdin",
     "output_type": "stream",
     "text": [
      "Enter 1:Add\n",
      "2:Update\n",
      "3:Delete\n",
      "4:View\n",
      "5:Exit 1\n",
      "Enter task you want to add sleep\n"
     ]
    },
    {
     "name": "stdout",
     "output_type": "stream",
     "text": [
      "Task sleep has been successfully added\n"
     ]
    },
    {
     "name": "stdin",
     "output_type": "stream",
     "text": [
      "Enter 1:Add\n",
      "2:Update\n",
      "3:Delete\n",
      "4:View\n",
      "5:Exit 4\n"
     ]
    },
    {
     "name": "stdout",
     "output_type": "stream",
     "text": [
      "Total tasks = ['lunch', 'eat', 'sleep']\n"
     ]
    },
    {
     "name": "stdin",
     "output_type": "stream",
     "text": [
      "Enter 1:Add\n",
      "2:Update\n",
      "3:Delete\n",
      "4:View\n",
      "5:Exit 3\n",
      "Which task do you want to delete? sleep\n"
     ]
    },
    {
     "name": "stdout",
     "output_type": "stream",
     "text": [
      "Task sleep has been deleted\n"
     ]
    },
    {
     "name": "stdin",
     "output_type": "stream",
     "text": [
      "Enter 1:Add\n",
      "2:Update\n",
      "3:Delete\n",
      "4:View\n",
      "5:Exit 4\n"
     ]
    },
    {
     "name": "stdout",
     "output_type": "stream",
     "text": [
      "Total tasks = ['lunch', 'eat']\n"
     ]
    },
    {
     "name": "stdin",
     "output_type": "stream",
     "text": [
      "Enter 1:Add\n",
      "2:Update\n",
      "3:Delete\n",
      "4:View\n",
      "5:Exit 5\n"
     ]
    },
    {
     "name": "stdout",
     "output_type": "stream",
     "text": [
      "Closing the program\n",
      "Great job staying organized today!\n"
     ]
    }
   ],
   "source": [
    "task()"
   ]
  },
  {
   "cell_type": "code",
   "execution_count": null,
   "id": "56155e40-b6a8-40c4-a377-77a18de07ed6",
   "metadata": {},
   "outputs": [
    {
     "name": "stderr",
     "output_type": "stream",
     "text": [
      "2024-12-12 19:22:06.942 python[1370:14134] +[IMKClient subclass]: chose IMKClient_Legacy\n",
      "2024-12-12 19:22:06.942 python[1370:14134] +[IMKInputSession subclass]: chose IMKInputSession_Legacy\n"
     ]
    }
   ],
   "source": [
    "import tkinter as tk\n",
    "from tkinter import messagebox\n",
    "\n",
    "\n",
    "class TaskManagerApp:\n",
    "    def __init__(self, root):\n",
    "        self.root = root\n",
    "        self.root.title(\"Task Manager\")\n",
    "        self.root.geometry(\"500x500\")\n",
    "        \n",
    "        # Initialize task list\n",
    "        self.tasks = []\n",
    "        \n",
    "        # Title Label\n",
    "        tk.Label(root, text=\"Welcome to the Task Manager!\", font=(\"Helvetica\", 16)).pack(pady=10)\n",
    "        \n",
    "        # Entry Widget for Task Input\n",
    "        self.task_input_label = tk.Label(root, text=\"Enter Task Name:\")\n",
    "        self.task_input_label.pack()\n",
    "        self.task_entry = tk.Entry(root, width=30)\n",
    "        self.task_entry.pack(pady=5)\n",
    "        \n",
    "        # Task Listbox\n",
    "        self.task_listbox = tk.Listbox(root, selectmode=tk.SINGLE, width=40, height=15)\n",
    "        self.task_listbox.pack(pady=10)\n",
    "\n",
    "        # Buttons for Operations\n",
    "        tk.Button(root, text=\"Add Task\", command=self.add_task).pack(pady=5)\n",
    "        tk.Button(root, text=\"Update Task\", command=self.update_task).pack(pady=5)\n",
    "        tk.Button(root, text=\"Delete Task\", command=self.delete_task).pack(pady=5)\n",
    "        tk.Button(root, text=\"View Tasks\", command=self.view_tasks).pack(pady=5)\n",
    "        tk.Button(root, text=\"Exit\", command=self.exit_app).pack(pady=5)\n",
    "\n",
    "    # Add a Task\n",
    "    def add_task(self):\n",
    "        task_name = self.task_entry.get()\n",
    "        if task_name:\n",
    "            self.tasks.append(task_name)\n",
    "            messagebox.showinfo(\"Success\", f\"Task '{task_name}' added successfully!\")\n",
    "            self.update_listbox()\n",
    "            self.task_entry.delete(0, tk.END)\n",
    "        else:\n",
    "            messagebox.showerror(\"Error\", \"Please enter a valid task name!\")\n",
    "\n",
    "    # Update a Task\n",
    "    def update_task(self):\n",
    "        selected_task = self.get_selected_task()\n",
    "        new_task_name = self.task_entry.get()\n",
    "        if selected_task:\n",
    "            if new_task_name:\n",
    "                index = self.tasks.index(selected_task)\n",
    "                self.tasks[index] = new_task_name\n",
    "                messagebox.showinfo(\"Success\", f\"Task updated to '{new_task_name}'\")\n",
    "                self.update_listbox()\n",
    "                self.task_entry.delete(0, tk.END)\n",
    "            else:\n",
    "                messagebox.showerror(\"Error\", \"Please enter a new name for the task!\")\n",
    "        else:\n",
    "            messagebox.showerror(\"Error\", \"Select a task to update!\")\n",
    "\n",
    "    # Delete a Task\n",
    "    def delete_task(self):\n",
    "        selected_task = self.get_selected_task()\n",
    "        if selected_task:\n",
    "            self.tasks.remove(selected_task)\n",
    "            messagebox.showinfo(\"Success\", f\"Task '{selected_task}' deleted successfully!\")\n",
    "            self.update_listbox()\n",
    "        else:\n",
    "            messagebox.showerror(\"Error\", \"Select a task to delete!\")\n",
    "\n",
    "    # View Tasks\n",
    "    def view_tasks(self):\n",
    "        if self.tasks:\n",
    "            tasks_str = \"\\n\".join(self.tasks)\n",
    "            messagebox.showinfo(\"Tasks\", f\"Today's tasks:\\n{tasks_str}\")\n",
    "        else:\n",
    "            messagebox.showinfo(\"Tasks\", \"No tasks available!\")\n",
    "\n",
    "    # Exit the App\n",
    "    def exit_app(self):\n",
    "        messagebox.showinfo(\"Exit\", \"Closing the program.\")\n",
    "        self.root.destroy()\n",
    "\n",
    "    # Update Listbox Widget\n",
    "    def update_listbox(self):\n",
    "        self.task_listbox.delete(0, tk.END)\n",
    "        for task in self.tasks:\n",
    "            self.task_listbox.insert(tk.END, task)\n",
    "\n",
    "    # Get Selected Task from Listbox\n",
    "    def get_selected_task(self):\n",
    "        try:\n",
    "            selected_index = self.task_listbox.curselection()\n",
    "            if selected_index:\n",
    "                return self.task_listbox.get(selected_index)\n",
    "            else:\n",
    "                return None\n",
    "        except:\n",
    "            return None\n",
    "\n",
    "\n",
    "# Main function to initialize the app\n",
    "if __name__ == \"__main__\":\n",
    "    root = tk.Tk()\n",
    "    app = TaskManagerApp(root)\n",
    "    root.mainloop()\n"
   ]
  },
  {
   "cell_type": "code",
   "execution_count": null,
   "id": "681fd983-d0f2-4ad2-ba9b-4473f5806832",
   "metadata": {},
   "outputs": [],
   "source": []
  }
 ],
 "metadata": {
  "kernelspec": {
   "display_name": "Python 3 (ipykernel)",
   "language": "python",
   "name": "python3"
  },
  "language_info": {
   "codemirror_mode": {
    "name": "ipython",
    "version": 3
   },
   "file_extension": ".py",
   "mimetype": "text/x-python",
   "name": "python",
   "nbconvert_exporter": "python",
   "pygments_lexer": "ipython3",
   "version": "3.12.4"
  }
 },
 "nbformat": 4,
 "nbformat_minor": 5
}
